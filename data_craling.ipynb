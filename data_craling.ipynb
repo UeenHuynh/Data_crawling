{
 "cells": [
  {
   "cell_type": "code",
   "execution_count": 1,
   "metadata": {},
   "outputs": [],
   "source": [
    "import os\n",
    "from selenium import webdriver\n",
    "from selenium.webdriver.common.by import By  # Importing By class for using By.ID\n",
    "from selenium.webdriver.support.ui import WebDriverWait\n",
    "from selenium.webdriver.support import expected_conditions as EC\n",
    "from selenium.webdriver.common.keys import Keys"
   ]
  },
  {
   "cell_type": "code",
   "execution_count": null,
   "metadata": {},
   "outputs": [],
   "source": [
    "os.environ['PATH'] += r\"C:/SeleniumDrivers\"\n",
    "driver = webdriver.Chrome()\n",
    "driver.get(\"https://www.zotero.org/download/\")\n",
    "driver.implicitly_wait(3)\n",
    "my_element = driver.find_element(By.CLASS_NAME, 'downloadButton')\n",
    "my_element.click()\n",
    "\n",
    "# Wait for the element to be present using implicit wait\n",
    "# Note: This wait is not ideal for all scenarios, and you may need a more specific wait condition.\n",
    "# It's often better to use explicit waits for specific elements.\n",
    "# my_element = driver.find_element(By.ID, 'ierwi')\n",
    "# print(f'{my_element.text}')\n",
    "WebDriverWait(driver, 30).until(\n",
    "    EC.text_to_be_present_in_element(\n",
    "        (By.CLASS_NAME, 'my_element'), # element filtration\n",
    "        'Complete!' # The expected text\n",
    "    )\n",
    ")"
   ]
  },
  {
   "cell_type": "code",
   "execution_count": 5,
   "metadata": {},
   "outputs": [
    {
     "name": "stdout",
     "output_type": "stream",
     "text": [
      "Waiting...\n",
      "54\n"
     ]
    }
   ],
   "source": [
    "driver = webdriver.Chrome()\n",
    "driver.get('https://maytinhonline.com/')\n",
    "driver.implicitly_wait(3)\n",
    "try:\n",
    "    element5 = driver.find_element(By.ID, 'dismiss-button')\n",
    "    element5.click()\n",
    "except:\n",
    "    print('Waiting...')\n",
    "# element1 =  driver.find_element(By.XPATH, '/html/body/ins[2]/div[1]//ins/span/svg/path')\n",
    "# element1.click()\n",
    "my_element1 = driver.find_element(By.ID, 'hmt_57')\n",
    "my_element1.click()\n",
    "sum1 = driver.find_element(By.ID, 'hmt_42')\n",
    "sum1.click()\n",
    "my_element2 = driver.find_element(By.ID, 'hmt_54')\n",
    "my_element2.click()\n",
    "sum2 = driver.find_element(By.ID, 'hmt_13')\n",
    "sum2.click()\n",
    "result = driver.find_element(By.ID, 'hm_ekran')\n",
    "print(f'{result.text}')\n",
    "# WebDriverWait(driver, 30).until(\n",
    "#     EC.text_to_be_present_in_element(\n",
    "#         (By.ID, 'my_element1'), # element filtration\n",
    "#         'Complete!' # The expected text\n",
    "#     )\n",
    "# )\n"
   ]
  },
  {
   "cell_type": "code",
   "execution_count": 15,
   "metadata": {},
   "outputs": [
    {
     "name": "stdout",
     "output_type": "stream",
     "text": [
      "Waiting...\n"
     ]
    },
    {
     "ename": "NoSuchElementException",
     "evalue": "Message: no such element: Unable to locate element: {\"method\":\"css selector\",\"selector\":\"[id=\"close_button_svg\"]\"}\n  (Session info: chrome=121.0.6167.139); For documentation on this error, please visit: https://www.selenium.dev/documentation/webdriver/troubleshooting/errors#no-such-element-exception\nStacktrace:\n\tGetHandleVerifier [0x00007FF657295E42+3538674]\n\t(No symbol) [0x00007FF656EB4C02]\n\t(No symbol) [0x00007FF656D65AEB]\n\t(No symbol) [0x00007FF656DABF4E]\n\t(No symbol) [0x00007FF656DAC0CC]\n\t(No symbol) [0x00007FF656DEE477]\n\t(No symbol) [0x00007FF656DCF0EF]\n\t(No symbol) [0x00007FF656DEBDE3]\n\t(No symbol) [0x00007FF656DCEE53]\n\t(No symbol) [0x00007FF656D9F514]\n\t(No symbol) [0x00007FF656DA0631]\n\tGetHandleVerifier [0x00007FF6572C6CAD+3738973]\n\tGetHandleVerifier [0x00007FF65731C506+4089270]\n\tGetHandleVerifier [0x00007FF657314823+4057299]\n\tGetHandleVerifier [0x00007FF656FE5C49+720121]\n\t(No symbol) [0x00007FF656EC126F]\n\t(No symbol) [0x00007FF656EBC304]\n\t(No symbol) [0x00007FF656EBC432]\n\t(No symbol) [0x00007FF656EABD04]\n\tBaseThreadInitThunk [0x00007FFD47ED7344+20]\n\tRtlUserThreadStart [0x00007FFD497A26B1+33]\n",
     "output_type": "error",
     "traceback": [
      "\u001b[1;31m---------------------------------------------------------------------------\u001b[0m",
      "\u001b[1;31mNoSuchElementException\u001b[0m                    Traceback (most recent call last)",
      "Cell \u001b[1;32mIn[15], line 11\u001b[0m\n\u001b[0;32m      8\u001b[0m     \u001b[38;5;28mprint\u001b[39m(\u001b[38;5;124m'\u001b[39m\u001b[38;5;124mWaiting...\u001b[39m\u001b[38;5;124m'\u001b[39m)\n\u001b[0;32m      9\u001b[0m \u001b[38;5;66;03m# btn = driver.find_element(By.Css, '/html/body/div[2]/div[2]/div/div[2]/div[2]/div/div[3]/svg')\u001b[39;00m\n\u001b[0;32m     10\u001b[0m \u001b[38;5;66;03m# btn.click()\u001b[39;00m\n\u001b[1;32m---> 11\u001b[0m btn \u001b[38;5;241m=\u001b[39m \u001b[43mdriver\u001b[49m\u001b[38;5;241;43m.\u001b[39;49m\u001b[43mfind_element\u001b[49m\u001b[43m(\u001b[49m\u001b[43mBy\u001b[49m\u001b[38;5;241;43m.\u001b[39;49m\u001b[43mID\u001b[49m\u001b[43m,\u001b[49m\u001b[43m \u001b[49m\u001b[38;5;124;43m'\u001b[39;49m\u001b[38;5;124;43mclose_button_svg\u001b[39;49m\u001b[38;5;124;43m'\u001b[39;49m\u001b[43m)\u001b[49m\n\u001b[0;32m     12\u001b[0m btn\u001b[38;5;241m.\u001b[39mclick()\n\u001b[0;32m     13\u001b[0m btn2 \u001b[38;5;241m=\u001b[39m driver\u001b[38;5;241m.\u001b[39mfind_element(By\u001b[38;5;241m.\u001b[39mCSS_SELECTOR, \u001b[38;5;124m'\u001b[39m\u001b[38;5;124msurvey_privacy_button_title\u001b[39m\u001b[38;5;124m'\u001b[39m)\n",
      "File \u001b[1;32me:\\AI VIETNAM\\Data_crawling\\Data_crawling\\crawling\\Lib\\site-packages\\selenium\\webdriver\\remote\\webdriver.py:741\u001b[0m, in \u001b[0;36mWebDriver.find_element\u001b[1;34m(self, by, value)\u001b[0m\n\u001b[0;32m    738\u001b[0m     by \u001b[38;5;241m=\u001b[39m By\u001b[38;5;241m.\u001b[39mCSS_SELECTOR\n\u001b[0;32m    739\u001b[0m     value \u001b[38;5;241m=\u001b[39m \u001b[38;5;124mf\u001b[39m\u001b[38;5;124m'\u001b[39m\u001b[38;5;124m[name=\u001b[39m\u001b[38;5;124m\"\u001b[39m\u001b[38;5;132;01m{\u001b[39;00mvalue\u001b[38;5;132;01m}\u001b[39;00m\u001b[38;5;124m\"\u001b[39m\u001b[38;5;124m]\u001b[39m\u001b[38;5;124m'\u001b[39m\n\u001b[1;32m--> 741\u001b[0m \u001b[38;5;28;01mreturn\u001b[39;00m \u001b[38;5;28;43mself\u001b[39;49m\u001b[38;5;241;43m.\u001b[39;49m\u001b[43mexecute\u001b[49m\u001b[43m(\u001b[49m\u001b[43mCommand\u001b[49m\u001b[38;5;241;43m.\u001b[39;49m\u001b[43mFIND_ELEMENT\u001b[49m\u001b[43m,\u001b[49m\u001b[43m \u001b[49m\u001b[43m{\u001b[49m\u001b[38;5;124;43m\"\u001b[39;49m\u001b[38;5;124;43musing\u001b[39;49m\u001b[38;5;124;43m\"\u001b[39;49m\u001b[43m:\u001b[49m\u001b[43m \u001b[49m\u001b[43mby\u001b[49m\u001b[43m,\u001b[49m\u001b[43m \u001b[49m\u001b[38;5;124;43m\"\u001b[39;49m\u001b[38;5;124;43mvalue\u001b[39;49m\u001b[38;5;124;43m\"\u001b[39;49m\u001b[43m:\u001b[49m\u001b[43m \u001b[49m\u001b[43mvalue\u001b[49m\u001b[43m}\u001b[49m\u001b[43m)\u001b[49m[\u001b[38;5;124m\"\u001b[39m\u001b[38;5;124mvalue\u001b[39m\u001b[38;5;124m\"\u001b[39m]\n",
      "File \u001b[1;32me:\\AI VIETNAM\\Data_crawling\\Data_crawling\\crawling\\Lib\\site-packages\\selenium\\webdriver\\remote\\webdriver.py:347\u001b[0m, in \u001b[0;36mWebDriver.execute\u001b[1;34m(self, driver_command, params)\u001b[0m\n\u001b[0;32m    345\u001b[0m response \u001b[38;5;241m=\u001b[39m \u001b[38;5;28mself\u001b[39m\u001b[38;5;241m.\u001b[39mcommand_executor\u001b[38;5;241m.\u001b[39mexecute(driver_command, params)\n\u001b[0;32m    346\u001b[0m \u001b[38;5;28;01mif\u001b[39;00m response:\n\u001b[1;32m--> 347\u001b[0m     \u001b[38;5;28;43mself\u001b[39;49m\u001b[38;5;241;43m.\u001b[39;49m\u001b[43merror_handler\u001b[49m\u001b[38;5;241;43m.\u001b[39;49m\u001b[43mcheck_response\u001b[49m\u001b[43m(\u001b[49m\u001b[43mresponse\u001b[49m\u001b[43m)\u001b[49m\n\u001b[0;32m    348\u001b[0m     response[\u001b[38;5;124m\"\u001b[39m\u001b[38;5;124mvalue\u001b[39m\u001b[38;5;124m\"\u001b[39m] \u001b[38;5;241m=\u001b[39m \u001b[38;5;28mself\u001b[39m\u001b[38;5;241m.\u001b[39m_unwrap_value(response\u001b[38;5;241m.\u001b[39mget(\u001b[38;5;124m\"\u001b[39m\u001b[38;5;124mvalue\u001b[39m\u001b[38;5;124m\"\u001b[39m, \u001b[38;5;28;01mNone\u001b[39;00m))\n\u001b[0;32m    349\u001b[0m     \u001b[38;5;28;01mreturn\u001b[39;00m response\n",
      "File \u001b[1;32me:\\AI VIETNAM\\Data_crawling\\Data_crawling\\crawling\\Lib\\site-packages\\selenium\\webdriver\\remote\\errorhandler.py:229\u001b[0m, in \u001b[0;36mErrorHandler.check_response\u001b[1;34m(self, response)\u001b[0m\n\u001b[0;32m    227\u001b[0m         alert_text \u001b[38;5;241m=\u001b[39m value[\u001b[38;5;124m\"\u001b[39m\u001b[38;5;124malert\u001b[39m\u001b[38;5;124m\"\u001b[39m]\u001b[38;5;241m.\u001b[39mget(\u001b[38;5;124m\"\u001b[39m\u001b[38;5;124mtext\u001b[39m\u001b[38;5;124m\"\u001b[39m)\n\u001b[0;32m    228\u001b[0m     \u001b[38;5;28;01mraise\u001b[39;00m exception_class(message, screen, stacktrace, alert_text)  \u001b[38;5;66;03m# type: ignore[call-arg]  # mypy is not smart enough here\u001b[39;00m\n\u001b[1;32m--> 229\u001b[0m \u001b[38;5;28;01mraise\u001b[39;00m exception_class(message, screen, stacktrace)\n",
      "\u001b[1;31mNoSuchElementException\u001b[0m: Message: no such element: Unable to locate element: {\"method\":\"css selector\",\"selector\":\"[id=\"close_button_svg\"]\"}\n  (Session info: chrome=121.0.6167.139); For documentation on this error, please visit: https://www.selenium.dev/documentation/webdriver/troubleshooting/errors#no-such-element-exception\nStacktrace:\n\tGetHandleVerifier [0x00007FF657295E42+3538674]\n\t(No symbol) [0x00007FF656EB4C02]\n\t(No symbol) [0x00007FF656D65AEB]\n\t(No symbol) [0x00007FF656DABF4E]\n\t(No symbol) [0x00007FF656DAC0CC]\n\t(No symbol) [0x00007FF656DEE477]\n\t(No symbol) [0x00007FF656DCF0EF]\n\t(No symbol) [0x00007FF656DEBDE3]\n\t(No symbol) [0x00007FF656DCEE53]\n\t(No symbol) [0x00007FF656D9F514]\n\t(No symbol) [0x00007FF656DA0631]\n\tGetHandleVerifier [0x00007FF6572C6CAD+3738973]\n\tGetHandleVerifier [0x00007FF65731C506+4089270]\n\tGetHandleVerifier [0x00007FF657314823+4057299]\n\tGetHandleVerifier [0x00007FF656FE5C49+720121]\n\t(No symbol) [0x00007FF656EC126F]\n\t(No symbol) [0x00007FF656EBC304]\n\t(No symbol) [0x00007FF656EBC432]\n\t(No symbol) [0x00007FF656EABD04]\n\tBaseThreadInitThunk [0x00007FFD47ED7344+20]\n\tRtlUserThreadStart [0x00007FFD497A26B1+33]\n"
     ]
    }
   ],
   "source": [
    "driver = webdriver.Chrome()\n",
    "driver.get('https://maytinhonline.com/')\n",
    "driver.implicitly_wait(3)\n",
    "try:\n",
    "    element5 = driver.find_element(By.ID, 'dismiss-button')\n",
    "    element5.click()\n",
    "except:\n",
    "    print('Waiting...')\n",
    "# btn = driver.find_element(By.Css, '/html/body/div[2]/div[2]/div/div[2]/div[2]/div/div[3]/svg')\n",
    "# btn.click()\n",
    "btn = driver.find_element(By.CSS_SELECTOR, '#close_button_svg')\n",
    "btn.click()\n",
    "btn2 = driver.find_element(By.CSS_SELECTOR, 'survey_privacy_button_title')\n",
    "btn2.click()\n",
    "\n",
    "\n",
    "# sum1 = driver.find_element(By.ID, 'hm_ekran')\n",
    "# sum1.click()\n",
    "# sum1.send_keys(Keys.NUMPAD1, Keys.NUMPAD2)"
   ]
  },
  {
   "cell_type": "code",
   "execution_count": null,
   "metadata": {},
   "outputs": [],
   "source": [
    "btn = driver.find_element(By.XPATH, '/html/body/div[2]/div[2]/div/div[2]/div[2]/div/div[3]/svg')\n",
    "btn.click()"
   ]
  }
 ],
 "metadata": {
  "kernelspec": {
   "display_name": "crawling",
   "language": "python",
   "name": "python3"
  },
  "language_info": {
   "codemirror_mode": {
    "name": "ipython",
    "version": 3
   },
   "file_extension": ".py",
   "mimetype": "text/x-python",
   "name": "python",
   "nbconvert_exporter": "python",
   "pygments_lexer": "ipython3",
   "version": "3.11.5"
  }
 },
 "nbformat": 4,
 "nbformat_minor": 2
}
